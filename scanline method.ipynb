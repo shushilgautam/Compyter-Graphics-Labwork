{
 "cells": [
  {
   "cell_type": "code",
   "execution_count": 6,
   "metadata": {},
   "outputs": [
    {
     "ename": "TypeError",
     "evalue": "'module' object is not callable",
     "output_type": "error",
     "traceback": [
      "\u001b[1;31m---------------------------------------------------------------------------\u001b[0m",
      "\u001b[1;31mTypeError\u001b[0m                                 Traceback (most recent call last)",
      "Cell \u001b[1;32mIn[6], line 65\u001b[0m\n\u001b[0;32m     62\u001b[0m         pygame\u001b[38;5;241m.\u001b[39mdisplay()\n\u001b[0;32m     64\u001b[0m \u001b[38;5;28;01mif\u001b[39;00m \u001b[38;5;18m__name__\u001b[39m \u001b[38;5;241m==\u001b[39m \u001b[38;5;124m'\u001b[39m\u001b[38;5;124m__main__\u001b[39m\u001b[38;5;124m'\u001b[39m:\n\u001b[1;32m---> 65\u001b[0m     \u001b[43mmain\u001b[49m\u001b[43m(\u001b[49m\u001b[43m)\u001b[49m\n",
      "Cell \u001b[1;32mIn[6], line 62\u001b[0m, in \u001b[0;36mmain\u001b[1;34m()\u001b[0m\n\u001b[0;32m     59\u001b[0m \u001b[38;5;66;03m# Perform scan line filling\u001b[39;00m\n\u001b[0;32m     60\u001b[0m scan_line_fill(screen, polygons)\n\u001b[1;32m---> 62\u001b[0m \u001b[43mpygame\u001b[49m\u001b[38;5;241;43m.\u001b[39;49m\u001b[43mdisplay\u001b[49m\u001b[43m(\u001b[49m\u001b[43m)\u001b[49m\n",
      "\u001b[1;31mTypeError\u001b[0m: 'module' object is not callable"
     ]
    },
    {
     "ename": "",
     "evalue": "",
     "output_type": "error",
     "traceback": [
      "\u001b[1;31mThe Kernel crashed while executing code in the current cell or a previous cell. \n",
      "\u001b[1;31mPlease review the code in the cell(s) to identify a possible cause of the failure. \n",
      "\u001b[1;31mClick <a href='https://aka.ms/vscodeJupyterKernelCrash'>here</a> for more info. \n",
      "\u001b[1;31mView Jupyter <a href='command:jupyter.viewOutput'>log</a> for further details."
     ]
    }
   ],
   "source": [
    "import pygame\n",
    "from pygame.locals import *\n",
    "import sys\n",
    "\n",
    "# Define some colors\n",
    "BLACK = (0, 0, 0)\n",
    "WHITE = (255, 255, 255)\n",
    "RED = (255, 0, 0)\n",
    "GREEN = (0, 255, 0)\n",
    "BLUE = (0, 0, 255)\n",
    "\n",
    "# Define vertices of polygons\n",
    "polygon1 = [(200, 100), (300, 50), (400, 100), (300, 150)]\n",
    "polygon2 = [(250, 200), (350, 200), (350, 300), (250, 300)]\n",
    "\n",
    "polygons = [polygon1, polygon2]\n",
    "\n",
    "# Function to draw a polygon\n",
    "def draw_polygon(surface, color, vertices):\n",
    "    pygame.draw.polygon(surface, color, vertices)\n",
    "\n",
    "# Function to perform scan line filling\n",
    "def scan_line_fill(surface, polygons):\n",
    "    for y in range(500):\n",
    "        intersections = []\n",
    "        for polygon in polygons:\n",
    "            for i in range(len(polygon)):\n",
    "                p1 = polygon[i]\n",
    "                p2 = polygon[(i + 1) % len(polygon)]\n",
    "                if p1[1] <= y < p2[1] or p2[1] <= y < p1[1]:\n",
    "                    x = p1[0] + (y - p1[1]) * (p2[0] - p1[0]) / (p2[1] - p1[1])\n",
    "                    intersections.append(x)\n",
    "        intersections.sort()\n",
    "        for i in range(0, len(intersections), 2):\n",
    "            pygame.draw.line(surface, BLUE, (intersections[i], y), (intersections[i + 1], y))\n",
    "\n",
    "# Main function\n",
    "def main():\n",
    "    pygame.init()\n",
    "\n",
    "    # Set up the screen\n",
    "    screen = pygame.display.set_mode((500, 500))\n",
    "    pygame.display.set_caption('Visible Surface Detection Using Scan Line Method')\n",
    "\n",
    "    # Main loop\n",
    "    while True:\n",
    "        for event in pygame.event.get():\n",
    "            if event.type == QUIT:\n",
    "                pygame.quit()\n",
    "                sys.exit()\n",
    "\n",
    "        screen.fill(BLACK)\n",
    "\n",
    "        # Draw polygons\n",
    "        for polygon in polygons:\n",
    "            draw_polygon(screen, WHITE, polygon)\n",
    "        pygame.display.flip()\n",
    "\n",
    "        # Perform scan line filling\n",
    "        scan_line_fill(screen, polygons)\n",
    "\n",
    "        pygame.display().flip()\n",
    "\n",
    "if __name__ == '__main__':\n",
    "    main()\n"
   ]
  }
 ],
 "metadata": {
  "kernelspec": {
   "display_name": "Python 3",
   "language": "python",
   "name": "python3"
  },
  "language_info": {
   "codemirror_mode": {
    "name": "ipython",
    "version": 3
   },
   "file_extension": ".py",
   "mimetype": "text/x-python",
   "name": "python",
   "nbconvert_exporter": "python",
   "pygments_lexer": "ipython3",
   "version": "3.12.1"
  }
 },
 "nbformat": 4,
 "nbformat_minor": 2
}
