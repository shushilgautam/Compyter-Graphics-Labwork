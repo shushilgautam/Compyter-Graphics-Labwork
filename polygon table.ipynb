{
 "cells": [
  {
   "cell_type": "code",
   "execution_count": 7,
   "metadata": {},
   "outputs": [
    {
     "name": "stdout",
     "output_type": "stream",
     "text": [
      "\n",
      "Vertex Table:\n",
      "0: (0, 0) - Vertex Tabl 1\n",
      "1: (0, 0) - Vertex Tabl 2\n",
      "1: (1, 0) - Vertex Tabl 3\n",
      "0: (1, 0) - Vertex Tabl 4\n",
      "\n",
      "Edge Table:\n",
      "E1: ((0, 0, 0), (1, 0, 0)) - Edge Tabl 1\n",
      "E2: ((1, 0, 0), (1, 1, 0)) - Edge Tabl 2\n",
      "E3: ((1, 1, 0), (0, 1, 0)) - Edge Tabl 3\n",
      "E4: ((0, 1, 0), (0, 0, 0)) - Edge Tabl 4\n",
      "\n",
      "Polygon Surface Table:\n",
      "S1: ((0, 0, 0), (1, 0, 0), (1, 1, 0)) - Polygon Surface Tabl 1\n",
      "S2: ((1, 0, 0), (1, 1, 0), (0, 1, 0)) - Polygon Surface Tabl 2\n",
      "S3: ((1, 1, 0), (0, 1, 0), (0, 0, 0)) - Polygon Surface Tabl 3\n",
      "S4: ((0, 1, 0), (0, 0, 0), (1, 0, 0)) - Polygon Surface Tabl 4\n"
     ]
    }
   ],
   "source": [
    "import numpy as np\n",
    "\n",
    "def create_vertex_table(vertices):\n",
    "    return np.array(vertices)\n",
    "\n",
    "def create_edge_table(vertices):\n",
    "    num_vertices = len(vertices)\n",
    "    return [(f\"E{i + 1}\", vertices[i], vertices[(i + 1) % num_vertices]) for i in range(num_vertices)]\n",
    "\n",
    "def create_polygon_surface_table(vertices):\n",
    "    num_vertices = len(vertices)\n",
    "    return [(f\"S{i + 1}\", vertices[i], vertices[(i + 1) % num_vertices], vertices[(i + 2) % num_vertices]) for i in range(num_vertices)]\n",
    "\n",
    "def input_vertices():\n",
    "    num_vertices = int(input(\"Enter the number of vertices: \"))\n",
    "    vertices = []\n",
    "    for i in range(num_vertices):\n",
    "        coordinates = input(f\"Enter coordinates for vertex {i + 1} (x y z): \").split()\n",
    "        vertices.append(tuple(map(int, coordinates)))\n",
    "    return vertices\n",
    "\n",
    "def print_table(table, name,subname):\n",
    "    print(f\"\\n{name}:\")\n",
    "    for i, entry in enumerate(table):\n",
    "        entry_str = ', '.join(map(str, entry[1:]))\n",
    "        print(f\"{entry[0]}: [{entry_str}] - {subname} {i + 1}\")\n",
    "\n",
    "def main():\n",
    "    vertices = input_vertices()\n",
    "    vertex_table = create_vertex_table(vertices)\n",
    "    edge_table = create_edge_table(vertices)\n",
    "    surface_table = create_polygon_surface_table(vertices)\n",
    "\n",
    "    print_table(vertex_table, \"Vertex Table\",\"Vertex\")\n",
    "    print_table(edge_table, \"Edge Table\",\"Edge\")\n",
    "    print_table(surface_table, \"Polygon Surface Table\",\"Surface\")\n",
    "\n",
    "if __name__ == \"__main__\":\n",
    "    main()\n"
   ]
  }
 ],
 "metadata": {
  "kernelspec": {
   "display_name": "Python 3",
   "language": "python",
   "name": "python3"
  },
  "language_info": {
   "codemirror_mode": {
    "name": "ipython",
    "version": 3
   },
   "file_extension": ".py",
   "mimetype": "text/x-python",
   "name": "python",
   "nbconvert_exporter": "python",
   "pygments_lexer": "ipython3",
   "version": "3.12.1"
  }
 },
 "nbformat": 4,
 "nbformat_minor": 2
}
