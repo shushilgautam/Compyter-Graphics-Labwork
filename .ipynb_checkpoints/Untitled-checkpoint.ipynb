{
 "cells": [
  {
   "cell_type": "code",
   "execution_count": 3,
   "id": "56e92e7c-cd36-4772-98ba-7aa7b4084d35",
   "metadata": {},
   "outputs": [
    {
     "ename": "NameError",
     "evalue": "name 'plt' is not defined",
     "output_type": "error",
     "traceback": [
      "\u001b[1;31m---------------------------------------------------------------------------\u001b[0m",
      "\u001b[1;31mNameError\u001b[0m                                 Traceback (most recent call last)",
      "Cell \u001b[1;32mIn[3], line 35\u001b[0m\n\u001b[0;32m     33\u001b[0m polygon \u001b[38;5;241m=\u001b[39m [(\u001b[38;5;241m1\u001b[39m, \u001b[38;5;241m1\u001b[39m), (\u001b[38;5;241m4\u001b[39m, \u001b[38;5;241m3\u001b[39m), (\u001b[38;5;241m2\u001b[39m, \u001b[38;5;241m5\u001b[39m), (\u001b[38;5;241m0\u001b[39m, \u001b[38;5;241m2\u001b[39m)]\n\u001b[0;32m     34\u001b[0m sorted_vertices \u001b[38;5;241m=\u001b[39m sort_polygon_vertices(polygon)\n\u001b[1;32m---> 35\u001b[0m \u001b[43mplt\u001b[49m\u001b[38;5;241m.\u001b[39mplot(polygon,marker\u001b[38;5;241m=\u001b[39m\u001b[38;5;124m\"\u001b[39m\u001b[38;5;124mo\u001b[39m\u001b[38;5;124m\"\u001b[39m)\n\u001b[0;32m     36\u001b[0m \u001b[38;5;28mprint\u001b[39m(\u001b[38;5;124m\"\u001b[39m\u001b[38;5;124mOriginal vertices:\u001b[39m\u001b[38;5;124m\"\u001b[39m, polygon)\n\u001b[0;32m     37\u001b[0m \u001b[38;5;28mprint\u001b[39m(\u001b[38;5;124m\"\u001b[39m\u001b[38;5;124mSorted vertices:\u001b[39m\u001b[38;5;124m\"\u001b[39m, sorted_vertices)\n",
      "\u001b[1;31mNameError\u001b[0m: name 'plt' is not defined"
     ]
    }
   ],
   "source": [
    "import math\n",
    "import matplotlib.pyplot as plt\n",
    "def sort_polygon_vertices(vertices):\n",
    "  \"\"\"\n",
    "  Sorts the vertices of a convex polygon in counter-clockwise order based on polar angles.\n",
    "\n",
    "  Args:\n",
    "      vertices: A list of tuples representing polygon vertices (x, y).\n",
    "\n",
    "  Returns:\n",
    "      A list of vertices sorted in counter-clockwise order.\n",
    "  \"\"\"\n",
    "\n",
    "  # Choose the centroid as the reference point\n",
    "  centroid_x = sum(x for x, _ in vertices) / len(vertices)\n",
    "  centroid_y = sum(y for _, y in vertices) / len(vertices)\n",
    "  reference_point = (centroid_x, centroid_y)\n",
    "\n",
    "  # Calculate polar angles\n",
    "  def get_polar_angle(vertex):\n",
    "    x, y = vertex\n",
    "    dx = x - reference_point[0]\n",
    "    dy = y - reference_point[1]\n",
    "    return math.atan2(dy, dx)  # Use arctangent-2 for quadrant awareness\n",
    "\n",
    "  polar_angles = [(vertex, get_polar_angle(vertex)) for vertex in vertices]\n",
    "\n",
    "  # Sort vertices based on polar angles\n",
    "  sorted_vertices = sorted(polar_angles, key=lambda p: p[1])  # Sort by angle\n",
    "\n",
    "  return [vertex for vertex, _ in sorted_vertices]\n",
    "\n",
    "# Example usage\n",
    "polygon = [(1, 1), (4, 3), (2, 5), (0, 2)]\n",
    "sorted_vertices = sort_polygon_vertices(polygon)\n",
    "plt.plot(polygon,marker=\"o\")\n",
    "print(\"Original vertices:\", polygon)\n",
    "print(\"Sorted vertices:\", sorted_vertices)\n"
   ]
  }
 ],
 "metadata": {
  "kernelspec": {
   "display_name": "Python 3 (ipykernel)",
   "language": "python",
   "name": "python3"
  },
  "language_info": {
   "codemirror_mode": {
    "name": "ipython",
    "version": 3
   },
   "file_extension": ".py",
   "mimetype": "text/x-python",
   "name": "python",
   "nbconvert_exporter": "python",
   "pygments_lexer": "ipython3",
   "version": "3.12.1"
  }
 },
 "nbformat": 4,
 "nbformat_minor": 5
}
