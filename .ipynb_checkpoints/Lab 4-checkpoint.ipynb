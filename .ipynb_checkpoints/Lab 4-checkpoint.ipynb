{
 "cells": [
  {
   "cell_type": "code",
   "execution_count": 1,
   "id": "3f344cc3-1563-4c95-a92f-e9252d6bf48c",
   "metadata": {},
   "outputs": [
    {
     "data": {
      "text/html": [
       "<style>:root { --jp-notebook-max-width: 100% !important; }</style>"
      ],
      "text/plain": [
       "<IPython.core.display.HTML object>"
      ]
     },
     "metadata": {},
     "output_type": "display_data"
    }
   ],
   "source": [
    "from IPython.display import display, HTML\n",
    "display(HTML(\"<style>:root { --jp-notebook-max-width: 100% !important; }</style>\"))"
   ]
  },
  {
   "cell_type": "code",
   "execution_count": 17,
   "id": "d1072e86-9074-48f4-bead-88c737c032e3",
   "metadata": {},
   "outputs": [
    {
     "name": "stdout",
     "output_type": "stream",
     "text": [
      "D:\\Programming\\Python programs\\Sushil Gautam\\Computer Graphics\n"
     ]
    },
    {
     "name": "stdin",
     "output_type": "stream",
     "text": [
      "Enter the radius =  10\n",
      "Enter the center of circle=  0 0\n"
     ]
    },
    {
     "name": "stdout",
     "output_type": "stream",
     "text": [
      "k\tpk\t(x+1,y+1)\t1st\t\t2nd\t\t3rd\t\t4th\t\t5th\t\t6th\t\t7th\t\t8th\n",
      "0\t-8.75\t(0, 10)\t\t(0.0, 10.0)\t(0.0, 10.0)\t(0.0, -10.0)\t(0.0, -10.0)\t(10.0, 0.0)\t(-10.0, 0.0)\t(10.0, 0.0)\t(-10.0, 0.0)\t\n",
      "1\t-5.75\t(1, 10)\t\t(1.0, 10.0)\t(-1.0, 10.0)\t(1.0, -10.0)\t(-1.0, -10.0)\t(10.0, 1.0)\t(-10.0, 1.0)\t(10.0, -1.0)\t(-10.0, -1.0)\t\n",
      "2\t-0.75\t(2, 10)\t\t(2.0, 10.0)\t(-2.0, 10.0)\t(2.0, -10.0)\t(-2.0, -10.0)\t(10.0, 2.0)\t(-10.0, 2.0)\t(10.0, -2.0)\t(-10.0, -2.0)\t\n",
      "3\t6.25\t(3, 10)\t\t(3.0, 10.0)\t(-3.0, 10.0)\t(3.0, -10.0)\t(-3.0, -10.0)\t(10.0, 3.0)\t(-10.0, 3.0)\t(10.0, -3.0)\t(-10.0, -3.0)\t\n",
      "4\t-4.75\t(4, 9)\t\t(4.0, 9.0)\t(-4.0, 9.0)\t(4.0, -9.0)\t(-4.0, -9.0)\t(9.0, 4.0)\t(-9.0, 4.0)\t(9.0, -4.0)\t(-9.0, -4.0)\t\n",
      "5\t6.25\t(5, 9)\t\t(5.0, 9.0)\t(-5.0, 9.0)\t(5.0, -9.0)\t(-5.0, -9.0)\t(9.0, 5.0)\t(-9.0, 5.0)\t(9.0, -5.0)\t(-9.0, -5.0)\t\n",
      "6\t1.25\t(6, 8)\t\t(6.0, 8.0)\t(-6.0, 8.0)\t(6.0, -8.0)\t(-6.0, -8.0)\t(8.0, 6.0)\t(-8.0, 6.0)\t(8.0, -6.0)\t(-8.0, -6.0)\t\n",
      "7\t0.25\t(7, 7)\t\t(7.0, 7.0)\t(-7.0, 7.0)\t(7.0, -7.0)\t(-7.0, -7.0)\t(7.0, 7.0)\t(-7.0, 7.0)\t(7.0, -7.0)\t(-7.0, -7.0)\t\n"
     ]
    },
    {
     "data": {
      "image/png": "[encoded data removed]",
      "text/plain": [
       "<Figure size 640x480 with 1 Axes>"
      ]
     },
     "metadata": {},
     "output_type": "display_data"
    },
    {
     "name": "stdout",
     "output_type": "stream",
     "text": [
      "Sushil Gautam\n"
     ]
    }
   ],
   "source": [
    "# Mid point circle drawing algorithm\n",
    "import os\n",
    "print(os.getcwd())\n",
    "import matplotlib.pyplot as plt\n",
    "r=float(input(\"Enter the radius = \"))\n",
    "x_center,y_center=map(float,input(\"Enter the center of circle= \").split())\n",
    "def symmetry(x,y,x_center,y_center):\n",
    "    plt.plot(x+x_center,y+y_center,marker=\".\",color='blue')\n",
    "    plt.plot(-x+x_center,y+y_center,marker=\".\",color='blue')\n",
    "    plt.plot(x+x_center,-y+y_center,marker=\".\",color='blue')\n",
    "    plt.plot(-x+x_center,-y+y_center,marker=\".\",color='blue')\n",
    "    plt.plot(y+x_center,x+y_center,marker=\".\",color='blue')\n",
    "    plt.plot(-y+x_center,x+y_center,marker=\".\",color='blue')\n",
    "    plt.plot(y+x_center,-x+y_center,marker=\".\",color='blue')\n",
    "    plt.plot(-y+x_center,-x+y_center,marker=\".\",color='blue')\n",
    "def display(k,p,x,y,x_center,y_center):\n",
    "    x=round(x)\n",
    "    y=round(y)\n",
    "    print(f\"{k}\\t{p}\\t{(x,y)}\\t\\t\",end=\"\")\n",
    "    print(f\"{(x+x_center,y+y_center)}\\t\",end=\"\")\n",
    "    print(f\"{(-x+x_center,y+y_center)}\\t\",end=\"\")\n",
    "    print(f\"{(x+x_center,-y+y_center)}\\t\",end=\"\")\n",
    "    print(f\"{(-x+x_center,-y+y_center)}\\t\",end=\"\")\n",
    "    print(f\"{(y+x_center,x+y_center)}\\t\",end=\"\")\n",
    "    print(f\"{(-y+x_center,x+y_center)}\\t\",end=\"\")\n",
    "    print(f\"{(y+x_center,-x+y_center)}\\t\",end=\"\")\n",
    "    print(f\"{(-y+x_center,-x+y_center)}\\t\")\n",
    "x=0\n",
    "y=r\n",
    "p=5/4-r\n",
    "k=0\n",
    "print(\"k\\tpk\\t(x+1,y+1)\\t1st\\t\\t2nd\\t\\t3rd\\t\\t4th\\t\\t5th\\t\\t6th\\t\\t7th\\t\\t8th\")\n",
    "symmetry(x,y,x_center,y_center)\n",
    "display(k,p,x,y,x_center,y_center)\n",
    "while x<y:\n",
    "    x+=1\n",
    "    k+=1\n",
    "    if p<0:\n",
    "        p=p+2*x+1\n",
    "    else:\n",
    "        p=p+2*(x-y)+1\n",
    "        y-=1\n",
    "    symmetry(x,y,x_center,y_center)\n",
    "    display(k,p,x,y,x_center,y_center)\n",
    "plt.plot(x_center,y_center,color='red',marker=\".\")\n",
    "plt.text(x_center,y_center,\"(\"+str(x_center)+\" , \"+str(y_center)+\")\",fontsize=8)\n",
    "plt.show();\n",
    "print(\"Sushil Gautam\")"
   ]
  },
  {
   "cell_type": "code",
   "execution_count": null,
   "id": "4e4149b4-8aad-4356-b75e-59882acfa0f3",
   "metadata": {},
   "outputs": [],
   "source": []
  }
 ],
 "metadata": {
  "kernelspec": {
   "display_name": "Python 3 (ipykernel)",
   "language": "python",
   "name": "python3"
  },
  "language_info": {
   "codemirror_mode": {
    "name": "ipython",
    "version": 3
   },
   "file_extension": ".py",
   "mimetype": "text/x-python",
   "name": "python",
   "nbconvert_exporter": "python",
   "pygments_lexer": "ipython3",
   "version": "3.12.1"
  }
 },
 "nbformat": 4,
 "nbformat_minor": 5
}
