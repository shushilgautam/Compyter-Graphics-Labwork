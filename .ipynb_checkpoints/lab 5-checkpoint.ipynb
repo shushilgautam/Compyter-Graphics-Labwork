{
 "cells": [
  {
   "cell_type": "code",
   "execution_count": null,
   "id": "7a626189-c649-4b76-acfb-71b88ba4692f",
   "metadata": {},
   "outputs": [],
   "source": [
    "# mid point ellipse algorithm\n",
    "import matplotlib.pyplot as plt\n",
    "rx,ry=map(float,input(\"Enter the radius rx and ry >> \").split())\n",
    "x_center,y_center=map(float,input(\"Enter the center co-ordinate >> \").split())\n",
    "# function for plotting points\n",
    "def plotPoints(x,y,x_center,y_center):\n",
    "    plt.plot(x+x_center,y+y_center,marker=\".\",color='blue')\n",
    "    plt.plot(-x+x_center,y+y_center,marker=\".\",color='blue')\n",
    "    plt.plot(x+x_center,-y+y_center,marker=\".\",color='blue')\n",
    "    plt.plot(-x+x_center,-y+y_center,marker=\".\",color='blue')\n",
    "# initial decision parameter for region one\n",
    "p1=(ry*ry)-(rx*rx*ry)+(rx*rx*0.25)\n",
    "# assigning value of x and y\n",
    "x=0\n",
    "y=ry\n",
    "while ((2*ry*ry*x)<(2*rx*rx*y)):\n",
    "    x+=1\n",
    "    if p1<0:\n",
    "        p1=p1+(2*ry*ry*x)+(ry*ry)\n",
    "    else:\n",
    "        y-=1\n",
    "        p1=p1+(2*ry*ry*x)-(2*rx*rx*y)+(ry*ry)\n",
    "    plotPoints(x,y,x_center,y_center)\n",
    "    plotPoints(-x,y,x_center,y_center)\n",
    "# initial decision parameter for region two\n",
    "p2=(ry*ry*(x+0.5)*(x+0.5))+(rx*rx*(y-1)*(y-1))+(rx*rx*ry*ry)\n",
    "print(p2)\n",
    "while (y>=0):\n",
    "    y-=1\n",
    "    if p2>0:\n",
    "        print(y)\n",
    "        p2=p2-(2*rx*rx*(y))+(rx*rx)\n",
    "    else:\n",
    "        print(\"hello\")\n",
    "        x+=1\n",
    "        p2=p2+(2*ry*ry*(x))-(2*rx*rx*(y))+(rx*rx)\n",
    "    \n",
    "    plotPoints(x,y,x_center,y_center)\n",
    "    plotPoints(x,-y,x_center,y_center)\n",
    "    # print(p2)"
   ]
  }
 ],
 "metadata": {
  "kernelspec": {
   "display_name": "Python 3 (ipykernel)",
   "language": "python",
   "name": "python3"
  },
  "language_info": {
   "codemirror_mode": {
    "name": "ipython",
    "version": 3
   },
   "file_extension": ".py",
   "mimetype": "text/x-python",
   "name": "python",
   "nbconvert_exporter": "python",
   "pygments_lexer": "ipython3",
   "version": "3.12.1"
  }
 },
 "nbformat": 4,
 "nbformat_minor": 5
}
