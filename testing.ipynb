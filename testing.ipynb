{
 "cells": [
  {
   "cell_type": "code",
   "execution_count": 7,
   "id": "20b445ea-5d9a-434a-a740-ff5cc37ab834",
   "metadata": {},
   "outputs": [
    {
     "name": "stdout",
     "output_type": "stream",
     "text": [
      "D:\\Programming\\Python programs\\Sushil Gautam\\Computer Graphics\n"
     ]
    },
    {
     "name": "stdin",
     "output_type": "stream",
     "text": [
      "Enter the number of vertices: 3\n"
     ]
    },
    {
     "name": "stdout",
     "output_type": "stream",
     "text": [
      "count\n",
      "in i\n",
      "in i\n",
      "in i\n",
      "in y\n",
      "in i\n",
      "in i\n",
      "in i\n"
     ]
    }
   ],
   "source": [
    "#write a program that prompts the user to enter co-ordinates for points and then displays them;\n",
    "import os\n",
    "print(os.getcwd())\n",
    "import matplotlib.pyplot as plt\n",
    "class Edge:\n",
    "    def __init__(self,yMin,yMax,x,slopeInverse):\n",
    "        self.yMin=yMin\n",
    "        self.yMax=yMax\n",
    "        self.x=x\n",
    "        self.slopeInverse=slopeInverse\n",
    "\n",
    "# global list of class\n",
    "edges=[]\n",
    "\n",
    "def addEdge(edges,yMin,yMax,x1,y1,x2,y2):\n",
    "    if y1>y2:\n",
    "        x1,x2=x2,x1\n",
    "        y1,y2=y2,y1\n",
    "    if y1==y2:\n",
    "        temp_x1=x1\n",
    "    else:\n",
    "        temp_x1=x1+(yMin-y1)/(y2-y1)*(x2-x1)\n",
    "    temp_slope=1.0/((y2-y1)/(x2-x1))\n",
    "    edge=Edge(yMin,yMax,temp_x1,temp_slope)\n",
    "    edges.append(edge)\n",
    "    \n",
    "\n",
    "def scanlineFill(x,y,n):\n",
    "    print(\"count\")\n",
    "    global edges\n",
    "    minY,maxY=y[0],y[0]\n",
    "    for i in range(n):\n",
    "        minY=min(minY,y[i])\n",
    "        maxY=min(maxY,y[i])\n",
    "    edgecount=3\n",
    "    for i in range(n):\n",
    "        nextIndex=(i+1)%n;\n",
    "        addEdge(edges,y[i],y[nextIndex],x[i],y[i],x[nextIndex],y[nextIndex])\n",
    "        print(\"in i\")\n",
    "        \n",
    "    for y in range(int(minY),int(maxY)+1):\n",
    "        print(\"in y\")\n",
    "        for i in range(edgecount):\n",
    "            print(\"in i\")\n",
    "            if (y>= edges[i].yMin and y< edges[i].yMax):\n",
    "                for j in range(i+1,edgecount):\n",
    "                    if (edges[i].x> edges[j].x):\n",
    "                        edges[i].x,edges[j].x=edges[j].x,edges[i].x\n",
    "                        print(\"in j\")\n",
    "                # fill the pixels\n",
    "                for k in range(i,edgecount-1,2):\n",
    "                    for x in range(edges[k].x,edges[k+1].x):\n",
    "                        plt.plot(x,y,marker=\",\")\n",
    "                        print(\"in \")\n",
    "        \n",
    "        for i in range(edgecount):\n",
    "            if(y>= edges[i].yMin and y<edges[i].yMax):\n",
    "                edges[i].x += edges[i].slopeInverse\n",
    "    plt.show()\n",
    "#main section\n",
    "n=int(input(\"Enter the number of vertices:\"))\n",
    "x=[1,3,5]\n",
    "y=[2,5,1]\n",
    "# print(\"Enter the co-ordinates of the vertices (in order): \")\n",
    "# for i in range(n):\n",
    "#     temp_x,temp_y=map(int,input(\"vertex: \").split())\n",
    "#     x.append(temp_x)\n",
    "#     y.append(temp_y)\n",
    "scanlineFill(x,y,n)\n"
   ]
  }
 ],
 "metadata": {
  "kernelspec": {
   "display_name": "Python 3 (ipykernel)",
   "language": "python",
   "name": "python3"
  },
  "language_info": {
   "codemirror_mode": {
    "name": "ipython",
    "version": 3
   },
   "file_extension": ".py",
   "mimetype": "text/x-python",
   "name": "python",
   "nbconvert_exporter": "python",
   "pygments_lexer": "ipython3",
   "version": "3.12.1"
  }
 },
 "nbformat": 4,
 "nbformat_minor": 5
}
