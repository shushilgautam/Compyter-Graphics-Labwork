{
 "cells": [
  {
   "cell_type": "code",
   "execution_count": null,
   "id": "20b445ea-5d9a-434a-a740-ff5cc37ab834",
   "metadata": {},
   "outputs": [],
   "source": [
    "import matplotlib.pyplot as plt\n",
    "x1,y1=map(float,input(\"Enter the co-ordinate x1 y1 = \").split())\n",
    "x2,y2=map(float,input(\"Enter the co-ordinate x2 y2 = \").split())\n",
    "dx=abs(x2-x1)\n",
    "dy=abs(y2-y1)"
   ]
  }
 ],
 "metadata": {
  "kernelspec": {
   "display_name": "Python 3 (ipykernel)",
   "language": "python",
   "name": "python3"
  },
  "language_info": {
   "codemirror_mode": {
    "name": "ipython",
    "version": 3
   },
   "file_extension": ".py",
   "mimetype": "text/x-python",
   "name": "python",
   "nbconvert_exporter": "python",
   "pygments_lexer": "ipython3",
   "version": "3.12.1"
  }
 },
 "nbformat": 4,
 "nbformat_minor": 5
}
