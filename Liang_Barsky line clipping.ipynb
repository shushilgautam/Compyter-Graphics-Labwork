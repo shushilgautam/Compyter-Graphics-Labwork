{
 "cells": [
  {
   "cell_type": "code",
   "execution_count": 3,
   "metadata": {},
   "outputs": [
    {
     "ename": "TypeError",
     "evalue": "'Text' object is not callable",
     "output_type": "error",
     "traceback": [
      "\u001b[1;31m---------------------------------------------------------------------------\u001b[0m",
      "\u001b[1;31mTypeError\u001b[0m                                 Traceback (most recent call last)",
      "Cell \u001b[1;32mIn[3], line 64\u001b[0m\n\u001b[0;32m     62\u001b[0m     \u001b[38;5;66;03m# Plot the clipped line\u001b[39;00m\n\u001b[0;32m     63\u001b[0m     ax1\u001b[38;5;241m.\u001b[39mplot([x1_clip, x2_clip], [y1_clip, y2_clip], \u001b[38;5;124m'\u001b[39m\u001b[38;5;124mg\u001b[39m\u001b[38;5;124m'\u001b[39m, label\u001b[38;5;241m=\u001b[39m\u001b[38;5;124m'\u001b[39m\u001b[38;5;124mClipped Line\u001b[39m\u001b[38;5;124m'\u001b[39m)\n\u001b[1;32m---> 64\u001b[0m     \u001b[43max1\u001b[49m\u001b[38;5;241;43m.\u001b[39;49m\u001b[43mtitle\u001b[49m\u001b[43m(\u001b[49m\u001b[38;5;124;43m'\u001b[39;49m\u001b[38;5;124;43mLiang-Barsky Line Clipping Algorithm\u001b[39;49m\u001b[38;5;124;43m'\u001b[39;49m\u001b[43m)\u001b[49m\n\u001b[0;32m     66\u001b[0m \u001b[38;5;28;01melse\u001b[39;00m:\n\u001b[0;32m     67\u001b[0m     \u001b[38;5;66;03m# The line is completely outside or parallel, so just plot the window\u001b[39;00m\n\u001b[0;32m     68\u001b[0m     ax1\u001b[38;5;241m.\u001b[39mtitle(\u001b[38;5;124m'\u001b[39m\u001b[38;5;124mLine is outside the clipping window\u001b[39m\u001b[38;5;124m'\u001b[39m)\n",
      "\u001b[1;31mTypeError\u001b[0m: 'Text' object is not callable"
     ]
    },
    {
     "data": {
      "image/png": "[encoded data removed]",
      "text/plain": [
       "<Figure size 640x480 with 2 Axes>"
      ]
     },
     "metadata": {},
     "output_type": "display_data"
    }
   ],
   "source": [
    "import matplotlib.pyplot as plt\n",
    "\n",
    "# Function to implement Liang-Barsky line clipping algorithm\n",
    "def liang_barsky(x_min, y_min, x_max, y_max, x1, y1, x2, y2):\n",
    "    dx = x2 - x1\n",
    "    dy = y2 - y1\n",
    "    p = [-dx, dx, -dy, dy]\n",
    "    q = [x1 - x_min, x_max - x1, y1 - y_min, y_max - y1]\n",
    "    t_enter = 0.0\n",
    "    t_exit = 1.0\n",
    "\n",
    "    for i in range(4):\n",
    "        if p[i] == 0:  # Check if line is parallel to the clipping boundary\n",
    "            if q[i] < 0:\n",
    "                return None  # Line is outside and parallel, so completely discarded\n",
    "        else:\n",
    "            t = q[i] / p[i]\n",
    "            if p[i] < 0:\n",
    "                if t > t_enter:\n",
    "                    t_enter = t\n",
    "            else:\n",
    "                if t < t_exit:\n",
    "                    t_exit = t\n",
    "\n",
    "    if t_enter > t_exit:\n",
    "        return None  # Line is completely outside\n",
    "\n",
    "    x1_clip = x1 + t_enter * dx\n",
    "    y1_clip = y1 + t_enter * dy\n",
    "    x2_clip = x1 + t_exit * dx\n",
    "    y2_clip = y1 + t_exit * dy\n",
    "\n",
    "    return x1_clip, y1_clip, x2_clip, y2_clip\n",
    "\n",
    "\n",
    "# Define the clipping window\n",
    "x_min,y_min=map(float,input(\"Enter x-min and y-min respectively: \").split())\n",
    "x_max,y_max=map(float,input(\"Enter x-max and y-max respectively: \").split())\n",
    "viewport=[[x_min,y_min],[x_max,y_min],[x_max,y_max],[x_min,y_max]]\n",
    "x,y=zip(*viewport)\n",
    "fig, [ax, ax1] = plt.subplots(2, 1)\n",
    "ax.plot(x+(x[0],),y+(y[0],),color=\"black\",label=\"Viewport\")\n",
    "ax1.plot(x+(x[0],),y+(y[0],),color=\"black\",label=\"Viewport\")\n",
    "\n",
    "\n",
    "# Define the line (starting and ending points) - you can adjust these coordinates\n",
    "x1,y1=map(float,input(\"Enter initial point of line: \").split())\n",
    "x2,y2=map(float,input(\"Enter final point of line: \").split())\n",
    "x_list=[x1,x2]\n",
    "y_list=[y1,y2]\n",
    "# copyx,copyy=deepcopy(x_list),deepcopy(y_list)\n",
    "ax.plot(x_list,y_list,marker='o',label=\"Line Before Clipping\")\n",
    "\n",
    "# Apply the Liang-Barsky algorithm to clip the line\n",
    "clipped_line = liang_barsky(x_min, y_min, x_max, y_max, x1, y1, x2, y2)\n",
    "\n",
    "# Plotting\n",
    "\n",
    "\n",
    "if clipped_line is not None:\n",
    "    x1_clip, y1_clip, x2_clip, y2_clip = clipped_line\n",
    "    # Plot the clipped line\n",
    "    ax1.plot([x1_clip, x2_clip], [y1_clip, y2_clip], 'g', label='Clipped Line')\n",
    "    ax1.set_title('Liang-Barsky Line Clipping Algorithm')\n",
    "    \n",
    "else:\n",
    "    # The line is completely outside or parallel, so just plot the window\n",
    "    ax1.set_title('Line is outside the clipping window')\n",
    "\n",
    "ax1.legend()\n",
    "ax.legend()\n",
    "ax.grid(True)\n",
    "ax1.grid(True)\n",
    "plt.suptitle(\"Liang-Barsky Line Clipping Algorithm\")\n",
    "plt.show()\n",
    "plt.axis('equal')\n",
    "plt.show()"
   ]
  }
 ],
 "metadata": {
  "kernelspec": {
   "display_name": "Python 3",
   "language": "python",
   "name": "python3"
  },
  "language_info": {
   "codemirror_mode": {
    "name": "ipython",
    "version": 3
   },
   "file_extension": ".py",
   "mimetype": "text/x-python",
   "name": "python",
   "nbconvert_exporter": "python",
   "pygments_lexer": "ipython3",
   "version": "3.12.1"
  }
 },
 "nbformat": 4,
 "nbformat_minor": 2
}
