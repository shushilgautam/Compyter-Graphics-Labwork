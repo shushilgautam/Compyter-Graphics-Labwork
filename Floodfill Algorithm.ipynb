{
 "cells": [
  {
   "cell_type": "code",
   "execution_count": 24,
   "id": "0369b12a-bd40-4003-8b1d-4f7b6a416b1e",
   "metadata": {},
   "outputs": [
    {
     "name": "stdout",
     "output_type": "stream",
     "text": [
      "--------------Floodfill Algorithm-----------------\n"
     ]
    },
    {
     "data": {
      "image/png": "[encoded data removed]",
      "text/plain": [
       "<Figure size 640x480 with 2 Axes>"
      ]
     },
     "metadata": {},
     "output_type": "display_data"
    }
   ],
   "source": [
    "import numpy as np\n",
    "import matplotlib.pyplot as plt\n",
    "import webcolors\n",
    "white_image = np.full((40, 40, 3), 255, dtype=np.uint8) \n",
    "def floodfill_Algo(x,y,old_color,new_color):\n",
    "    global white_image\n",
    "    value=webcolors.rgb_to_name(white_image[y,x])\n",
    "    if(value==old_color):\n",
    "        white_image[y,x]=webcolors.name_to_rgb(new_color)\n",
    "        floodfill_Algo(x-1,y,old_color,new_color)\n",
    "        floodfill_Algo(x+1,y,old_color,new_color)\n",
    "        floodfill_Algo(x,y-1,old_color,new_color)\n",
    "        floodfill_Algo(x,y+1,old_color,new_color)\n",
    "\n",
    "pixel_x, pixel_y = 10, 10\n",
    "\n",
    "# Define line segments and offsets for each segment\n",
    "segments = [\n",
    "    ((1, 0), (-1, 0)),  # Right, then left\n",
    "    ((0, -1), (0, 1)),  # Down, then up\n",
    "    ((-1, 0), (1, 0)),  # Left, then right\n",
    "    ((0, 1), (0, -1)),  # Up, then down\n",
    "]\n",
    "\n",
    "# Loop through each segment and modify pixels\n",
    "for dx, dy in segments:\n",
    "    for _ in range(15):\n",
    "        white_image[pixel_y, pixel_x] = [0, 0, 0]\n",
    "        pixel_x += dx[0]  \n",
    "        pixel_y += dy[1] \n",
    "\n",
    "x,y=map(int,input(\"Enter the Seed coordinate:\").split())\n",
    "fill_color,original_color=map(str,input(\"Enter fill color and background color respectively :\").split())\n",
    "color_name = webcolors.rgb_to_name(white_image[10,10])\n",
    "print(\"--------------Floodfill Algorithm-----------------\")\n",
    "plt.subplot(121)\n",
    "plt.imshow(white_image,cmap='binary')\n",
    "plt.title('Original Image')\n",
    "\n",
    "floodfill_Algo(x,y,fill_color,original_color)\n",
    "plt.subplot(122)\n",
    "plt.imshow(white_image,cmap='binary')\n",
    "plt.title('Filled Image')\n",
    "\n",
    "plt.show()\n"
   ]
  }
 ],
 "metadata": {
  "kernelspec": {
   "display_name": "Python 3 (ipykernel)",
   "language": "python",
   "name": "python3"
  },
  "language_info": {
   "codemirror_mode": {
    "name": "ipython",
    "version": 3
   },
   "file_extension": ".py",
   "mimetype": "text/x-python",
   "name": "python",
   "nbconvert_exporter": "python",
   "pygments_lexer": "ipython3",
   "version": "3.12.1"
  }
 },
 "nbformat": 4,
 "nbformat_minor": 5
}
