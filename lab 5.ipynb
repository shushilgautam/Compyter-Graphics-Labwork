{
 "cells": [
  {
   "cell_type": "code",
   "execution_count": 1,
   "id": "7a626189-c649-4b76-acfb-71b88ba4692f",
   "metadata": {},
   "outputs": [
    {
     "name": "stdout",
     "output_type": "stream",
     "text": [
      "D:\\Programming\\Python programs\\Sushil Gautam\\Computer Graphics\n"
     ]
    },
    {
     "name": "stdin",
     "output_type": "stream",
     "text": [
      "Enter the radius rx and ry >>  10 12\n",
      "Enter the center co-ordinate >>  0 0\n"
     ]
    },
    {
     "name": "stdout",
     "output_type": "stream",
     "text": [
      "k\tp1\t(x+1,y+1)\t(x,y)\t\t(-x,y)\t\t(x,-y)\t\t(-x,-y)\n",
      "0\t-1031.0\t(0, 12)\t\t(0.0, 12.0)\t(0.0, 12.0)\t(0.0, -12.0)\t(0.0, -12.0)\t\n",
      "1\t-599.0\t(1, 12)\t\t(1.0, 12.0)\t(-1.0, 12.0)\t(1.0, -12.0)\t(-1.0, -12.0)\t\n",
      "2\t121.0\t(2, 12)\t\t(2.0, 12.0)\t(-2.0, 12.0)\t(2.0, -12.0)\t(-2.0, -12.0)\t\n",
      "3\t-1071.0\t(3, 11)\t\t(3.0, 11.0)\t(-3.0, 11.0)\t(3.0, -11.0)\t(-3.0, -11.0)\t\n",
      "4\t225.0\t(4, 11)\t\t(4.0, 11.0)\t(-4.0, 11.0)\t(4.0, -11.0)\t(-4.0, -11.0)\t\n",
      "5\t-191.0\t(5, 10)\t\t(5.0, 10.0)\t(-5.0, 10.0)\t(5.0, -10.0)\t(-5.0, -10.0)\t\n",
      "6\t1681.0\t(6, 10)\t\t(6.0, 10.0)\t(-6.0, 10.0)\t(6.0, -10.0)\t(-6.0, -10.0)\t\n",
      "7\t2041.0\t(7, 9)\t\t(7.0, 9.0)\t(-7.0, 9.0)\t(7.0, -9.0)\t(-7.0, -9.0)\t\n",
      "\n",
      "_____________________________________________________________________________________________________________\n",
      "\n",
      "k\tp2\t(x+1,y+1)\t(x,y)\t\t(-x,y)\t\t(x,-y)\t\t(-x,-y)\n",
      "0\t-1400.0\t(7, 8)\t\t(7.0, 8.0)\t(-7.0, 8.0)\t(7.0, -8.0)\t(-7.0, -8.0)\t\n",
      "1\t-396.0\t(8, 7)\t\t(8.0, 7.0)\t(-8.0, 7.0)\t(8.0, -7.0)\t(-8.0, -7.0)\t\n",
      "2\t1096.0\t(9, 6)\t\t(9.0, 6.0)\t(-9.0, 6.0)\t(9.0, -6.0)\t(-9.0, -6.0)\t\n",
      "3\t196.0\t(9, 5)\t\t(9.0, 5.0)\t(-9.0, 5.0)\t(9.0, -5.0)\t(-9.0, -5.0)\t\n",
      "4\t-504.0\t(9, 4)\t\t(9.0, 4.0)\t(-9.0, 4.0)\t(9.0, -4.0)\t(-9.0, -4.0)\t\n",
      "5\t1876.0\t(10, 3)\t\t(10.0, 3.0)\t(-10.0, 3.0)\t(10.0, -3.0)\t(-10.0, -3.0)\t\n",
      "6\t1576.0\t(10, 2)\t\t(10.0, 2.0)\t(-10.0, 2.0)\t(10.0, -2.0)\t(-10.0, -2.0)\t\n",
      "7\t1476.0\t(10, 1)\t\t(10.0, 1.0)\t(-10.0, 1.0)\t(10.0, -1.0)\t(-10.0, -1.0)\t\n",
      "8\t1576.0\t(10, 0)\t\t(10.0, 0.0)\t(-10.0, 0.0)\t(10.0, 0.0)\t(-10.0, 0.0)\t\n"
     ]
    },
    {
     "data": {
      "image/png": "[encoded data removed]",
      "text/plain": [
       "<Figure size 640x480 with 1 Axes>"
      ]
     },
     "metadata": {},
     "output_type": "display_data"
    },
    {
     "name": "stdout",
     "output_type": "stream",
     "text": [
      "Sushil Gautam\n"
     ]
    }
   ],
   "source": [
    "# mid point ellipse algorithm\n",
    "import os\n",
    "print(os.getcwd())\n",
    "import matplotlib.pyplot as plt\n",
    "rx,ry=map(float,input(\"Enter the radius rx and ry >> \").split())\n",
    "x_center,y_center=map(float,input(\"Enter the center co-ordinate >> \").split())\n",
    "# function for plotting points\n",
    "def plotPoints(x,y,x_center,y_center):\n",
    "    plt.plot(x+x_center,y+y_center,marker=\".\",color='blue')\n",
    "    plt.plot(-x+x_center,y+y_center,marker=\".\",color='blue')\n",
    "    plt.plot(x+x_center,-y+y_center,marker=\".\",color='blue')\n",
    "    plt.plot(-x+x_center,-y+y_center,marker=\".\",color='blue')\n",
    "def display(k,p,x,y,x_center,y_center):\n",
    "    x=round(x)\n",
    "    y=round(y)\n",
    "    print(f\"{k}\\t{p}\\t{(x,y)}\\t\\t\",end=\"\")\n",
    "    print(f\"{(x+x_center,y+y_center)}\\t\",end=\"\")\n",
    "    print(f\"{(-x+x_center,y+y_center)}\\t\",end=\"\")\n",
    "    print(f\"{(x+x_center,-y+y_center)}\\t\",end=\"\")\n",
    "    print(f\"{(-x+x_center,-y+y_center)}\\t\")\n",
    "# initial decision parameter for region one\n",
    "p1=(ry*ry)-(rx*rx*ry)+(rx*rx*0.25)\n",
    "# assigning value of x and y\n",
    "x,y,k=0,ry,0\n",
    "\n",
    "print(\"k\\tp1\\t(x+1,y+1)\\t(x,y)\\t\\t(-x,y)\\t\\t(x,-y)\\t\\t(-x,-y)\")\n",
    "plotPoints(x,y,x_center,y_center)\n",
    "display(k,p1,x,y,x_center,y_center)\n",
    "while ((2*ry*ry*x)<(2*rx*rx*y)):\n",
    "    k+=1\n",
    "    x+=1\n",
    "    if p1<0:\n",
    "        p1=p1+(2*ry*ry*x)+(ry*ry)\n",
    "    else:\n",
    "        y-=1\n",
    "        p1=p1+(2*ry*ry*x)-(2*rx*rx*y)+(ry*ry)\n",
    "    plotPoints(x,y,x_center,y_center)\n",
    "    display(k,p1,x,y,x_center,y_center)\n",
    "# initial decision parameter for region two\n",
    "p2=(ry*ry*(x+0.5)*(x+0.5))+(rx*rx*(y-1)*(y-1))-(rx*rx*ry*ry)\n",
    "print(\"\\n_____________________________________________________________________________________________________________\\n\")\n",
    "print(\"k\\tp2\\t(x+1,y+1)\\t(x,y)\\t\\t(-x,y)\\t\\t(x,-y)\\t\\t(-x,-y)\")\n",
    "k=0\n",
    "while (y>0):\n",
    "    y-=1\n",
    "    if p2>0:\n",
    "        p2=p2-(2*rx*rx*(y))+(rx*rx)\n",
    "    else:\n",
    "        x+=1\n",
    "        p2=p2+(2*ry*ry*(x))-(2*rx*rx*(y))+(rx*rx)\n",
    "    plotPoints(x,y,x_center,y_center)\n",
    "    display(k,p2,x,y,x_center,y_center)\n",
    "    k+=1\n",
    "plt.xlabel(\"x-axis\")\n",
    "plt.ylabel(\"y-axis\")\n",
    "plt.title(\"Mid-point Ellipse Darwing Algorithm\")\n",
    "plt.plot(x_center,y_center,marker=\"o\")\n",
    "plt.show()\n",
    "print(\"Sushil Gautam\")"
   ]
  }
 ],
 "metadata": {
  "kernelspec": {
   "display_name": "Python 3 (ipykernel)",
   "language": "python",
   "name": "python3"
  },
  "language_info": {
   "codemirror_mode": {
    "name": "ipython",
    "version": 3
   },
   "file_extension": ".py",
   "mimetype": "text/x-python",
   "name": "python",
   "nbconvert_exporter": "python",
   "pygments_lexer": "ipython3",
   "version": "3.12.1"
  }
 },
 "nbformat": 4,
 "nbformat_minor": 5
}
