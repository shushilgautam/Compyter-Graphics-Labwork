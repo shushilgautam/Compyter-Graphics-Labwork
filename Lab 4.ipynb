{
 "cells": [
  {
   "cell_type": "code",
   "execution_count": 1,
   "id": "3f344cc3-1563-4c95-a92f-e9252d6bf48c",
   "metadata": {},
   "outputs": [
    {
     "data": {
      "text/html": [
       "<style>:root { --jp-notebook-max-width: 100% !important; }</style>"
      ],
      "text/plain": [
       "<IPython.core.display.HTML object>"
      ]
     },
     "metadata": {},
     "output_type": "display_data"
    }
   ],
   "source": [
    "from IPython.display import display, HTML\n",
    "display(HTML(\"<style>:root { --jp-notebook-max-width: 100% !important; }</style>\"))"
   ]
  },
  {
   "cell_type": "code",
   "execution_count": 2,
   "id": "d1072e86-9074-48f4-bead-88c737c032e3",
   "metadata": {},
   "outputs": [
    {
     "name": "stdout",
     "output_type": "stream",
     "text": [
      "D:\\Programming\\Python programs\\Sushil Gautam\\Computer Graphics\n"
     ]
    },
    {
     "name": "stdin",
     "output_type": "stream",
     "text": [
      "Enter the radius =  50\n",
      "Enter the center of circle=  0 5\n"
     ]
    },
    {
     "name": "stdout",
     "output_type": "stream",
     "text": [
      "k\tpk\t(x+1,y+1)\t(x,y)\t\t(-x,y)\t\t(x,-y)\t\t(-x,-y)\t\t(y,x)\t\t(-y,x)\t\t(y,-x)\t\t(-y,-x)\n",
      "0\t-48.75\t(0, 50)\t\t(0.0, 55.0)\t(0.0, 55.0)\t(0.0, -45.0)\t(0.0, -45.0)\t(50.0, 5.0)\t(-50.0, 5.0)\t(50.0, 5.0)\t(-50.0, 5.0)\t\n",
      "1\t-45.75\t(1, 50)\t\t(1.0, 55.0)\t(-1.0, 55.0)\t(1.0, -45.0)\t(-1.0, -45.0)\t(50.0, 6.0)\t(-50.0, 6.0)\t(50.0, 4.0)\t(-50.0, 4.0)\t\n",
      "2\t-40.75\t(2, 50)\t\t(2.0, 55.0)\t(-2.0, 55.0)\t(2.0, -45.0)\t(-2.0, -45.0)\t(50.0, 7.0)\t(-50.0, 7.0)\t(50.0, 3.0)\t(-50.0, 3.0)\t\n",
      "3\t-33.75\t(3, 50)\t\t(3.0, 55.0)\t(-3.0, 55.0)\t(3.0, -45.0)\t(-3.0, -45.0)\t(50.0, 8.0)\t(-50.0, 8.0)\t(50.0, 2.0)\t(-50.0, 2.0)\t\n",
      "4\t-24.75\t(4, 50)\t\t(4.0, 55.0)\t(-4.0, 55.0)\t(4.0, -45.0)\t(-4.0, -45.0)\t(50.0, 9.0)\t(-50.0, 9.0)\t(50.0, 1.0)\t(-50.0, 1.0)\t\n",
      "5\t-13.75\t(5, 50)\t\t(5.0, 55.0)\t(-5.0, 55.0)\t(5.0, -45.0)\t(-5.0, -45.0)\t(50.0, 10.0)\t(-50.0, 10.0)\t(50.0, 0.0)\t(-50.0, 0.0)\t\n",
      "6\t-0.75\t(6, 50)\t\t(6.0, 55.0)\t(-6.0, 55.0)\t(6.0, -45.0)\t(-6.0, -45.0)\t(50.0, 11.0)\t(-50.0, 11.0)\t(50.0, -1.0)\t(-50.0, -1.0)\t\n",
      "7\t14.25\t(7, 50)\t\t(7.0, 55.0)\t(-7.0, 55.0)\t(7.0, -45.0)\t(-7.0, -45.0)\t(50.0, 12.0)\t(-50.0, 12.0)\t(50.0, -2.0)\t(-50.0, -2.0)\t\n",
      "8\t-68.75\t(8, 49)\t\t(8.0, 54.0)\t(-8.0, 54.0)\t(8.0, -44.0)\t(-8.0, -44.0)\t(49.0, 13.0)\t(-49.0, 13.0)\t(49.0, -3.0)\t(-49.0, -3.0)\t\n",
      "9\t-49.75\t(9, 49)\t\t(9.0, 54.0)\t(-9.0, 54.0)\t(9.0, -44.0)\t(-9.0, -44.0)\t(49.0, 14.0)\t(-49.0, 14.0)\t(49.0, -4.0)\t(-49.0, -4.0)\t\n",
      "10\t-28.75\t(10, 49)\t\t(10.0, 54.0)\t(-10.0, 54.0)\t(10.0, -44.0)\t(-10.0, -44.0)\t(49.0, 15.0)\t(-49.0, 15.0)\t(49.0, -5.0)\t(-49.0, -5.0)\t\n",
      "11\t-5.75\t(11, 49)\t\t(11.0, 54.0)\t(-11.0, 54.0)\t(11.0, -44.0)\t(-11.0, -44.0)\t(49.0, 16.0)\t(-49.0, 16.0)\t(49.0, -6.0)\t(-49.0, -6.0)\t\n",
      "12\t19.25\t(12, 49)\t\t(12.0, 54.0)\t(-12.0, 54.0)\t(12.0, -44.0)\t(-12.0, -44.0)\t(49.0, 17.0)\t(-49.0, 17.0)\t(49.0, -7.0)\t(-49.0, -7.0)\t\n",
      "13\t-51.75\t(13, 48)\t\t(13.0, 53.0)\t(-13.0, 53.0)\t(13.0, -43.0)\t(-13.0, -43.0)\t(48.0, 18.0)\t(-48.0, 18.0)\t(48.0, -8.0)\t(-48.0, -8.0)\t\n",
      "14\t-22.75\t(14, 48)\t\t(14.0, 53.0)\t(-14.0, 53.0)\t(14.0, -43.0)\t(-14.0, -43.0)\t(48.0, 19.0)\t(-48.0, 19.0)\t(48.0, -9.0)\t(-48.0, -9.0)\t\n",
      "15\t8.25\t(15, 48)\t\t(15.0, 53.0)\t(-15.0, 53.0)\t(15.0, -43.0)\t(-15.0, -43.0)\t(48.0, 20.0)\t(-48.0, 20.0)\t(48.0, -10.0)\t(-48.0, -10.0)\t\n",
      "16\t-54.75\t(16, 47)\t\t(16.0, 52.0)\t(-16.0, 52.0)\t(16.0, -42.0)\t(-16.0, -42.0)\t(47.0, 21.0)\t(-47.0, 21.0)\t(47.0, -11.0)\t(-47.0, -11.0)\t\n",
      "17\t-19.75\t(17, 47)\t\t(17.0, 52.0)\t(-17.0, 52.0)\t(17.0, -42.0)\t(-17.0, -42.0)\t(47.0, 22.0)\t(-47.0, 22.0)\t(47.0, -12.0)\t(-47.0, -12.0)\t\n",
      "18\t17.25\t(18, 47)\t\t(18.0, 52.0)\t(-18.0, 52.0)\t(18.0, -42.0)\t(-18.0, -42.0)\t(47.0, 23.0)\t(-47.0, 23.0)\t(47.0, -13.0)\t(-47.0, -13.0)\t\n",
      "19\t-37.75\t(19, 46)\t\t(19.0, 51.0)\t(-19.0, 51.0)\t(19.0, -41.0)\t(-19.0, -41.0)\t(46.0, 24.0)\t(-46.0, 24.0)\t(46.0, -14.0)\t(-46.0, -14.0)\t\n",
      "20\t3.25\t(20, 46)\t\t(20.0, 51.0)\t(-20.0, 51.0)\t(20.0, -41.0)\t(-20.0, -41.0)\t(46.0, 25.0)\t(-46.0, 25.0)\t(46.0, -15.0)\t(-46.0, -15.0)\t\n",
      "21\t-45.75\t(21, 45)\t\t(21.0, 50.0)\t(-21.0, 50.0)\t(21.0, -40.0)\t(-21.0, -40.0)\t(45.0, 26.0)\t(-45.0, 26.0)\t(45.0, -16.0)\t(-45.0, -16.0)\t\n",
      "22\t-0.75\t(22, 45)\t\t(22.0, 50.0)\t(-22.0, 50.0)\t(22.0, -40.0)\t(-22.0, -40.0)\t(45.0, 27.0)\t(-45.0, 27.0)\t(45.0, -17.0)\t(-45.0, -17.0)\t\n",
      "23\t46.25\t(23, 45)\t\t(23.0, 50.0)\t(-23.0, 50.0)\t(23.0, -40.0)\t(-23.0, -40.0)\t(45.0, 28.0)\t(-45.0, 28.0)\t(45.0, -18.0)\t(-45.0, -18.0)\t\n",
      "24\t5.25\t(24, 44)\t\t(24.0, 49.0)\t(-24.0, 49.0)\t(24.0, -39.0)\t(-24.0, -39.0)\t(44.0, 29.0)\t(-44.0, 29.0)\t(44.0, -19.0)\t(-44.0, -19.0)\t\n",
      "25\t-31.75\t(25, 43)\t\t(25.0, 48.0)\t(-25.0, 48.0)\t(25.0, -38.0)\t(-25.0, -38.0)\t(43.0, 30.0)\t(-43.0, 30.0)\t(43.0, -20.0)\t(-43.0, -20.0)\t\n",
      "26\t21.25\t(26, 43)\t\t(26.0, 48.0)\t(-26.0, 48.0)\t(26.0, -38.0)\t(-26.0, -38.0)\t(43.0, 31.0)\t(-43.0, 31.0)\t(43.0, -21.0)\t(-43.0, -21.0)\t\n",
      "27\t-9.75\t(27, 42)\t\t(27.0, 47.0)\t(-27.0, 47.0)\t(27.0, -37.0)\t(-27.0, -37.0)\t(42.0, 32.0)\t(-42.0, 32.0)\t(42.0, -22.0)\t(-42.0, -22.0)\t\n",
      "28\t47.25\t(28, 42)\t\t(28.0, 47.0)\t(-28.0, 47.0)\t(28.0, -37.0)\t(-28.0, -37.0)\t(42.0, 33.0)\t(-42.0, 33.0)\t(42.0, -23.0)\t(-42.0, -23.0)\t\n",
      "29\t22.25\t(29, 41)\t\t(29.0, 46.0)\t(-29.0, 46.0)\t(29.0, -36.0)\t(-29.0, -36.0)\t(41.0, 34.0)\t(-41.0, 34.0)\t(41.0, -24.0)\t(-41.0, -24.0)\t\n",
      "30\t1.25\t(30, 40)\t\t(30.0, 45.0)\t(-30.0, 45.0)\t(30.0, -35.0)\t(-30.0, -35.0)\t(40.0, 35.0)\t(-40.0, 35.0)\t(40.0, -25.0)\t(-40.0, -25.0)\t\n",
      "31\t-15.75\t(31, 39)\t\t(31.0, 44.0)\t(-31.0, 44.0)\t(31.0, -34.0)\t(-31.0, -34.0)\t(39.0, 36.0)\t(-39.0, 36.0)\t(39.0, -26.0)\t(-39.0, -26.0)\t\n",
      "32\t49.25\t(32, 39)\t\t(32.0, 44.0)\t(-32.0, 44.0)\t(32.0, -34.0)\t(-32.0, -34.0)\t(39.0, 37.0)\t(-39.0, 37.0)\t(39.0, -27.0)\t(-39.0, -27.0)\t\n",
      "33\t38.25\t(33, 38)\t\t(33.0, 43.0)\t(-33.0, 43.0)\t(33.0, -33.0)\t(-33.0, -33.0)\t(38.0, 38.0)\t(-38.0, 38.0)\t(38.0, -28.0)\t(-38.0, -28.0)\t\n",
      "34\t31.25\t(34, 37)\t\t(34.0, 42.0)\t(-34.0, 42.0)\t(34.0, -32.0)\t(-34.0, -32.0)\t(37.0, 39.0)\t(-37.0, 39.0)\t(37.0, -29.0)\t(-37.0, -29.0)\t\n",
      "35\t28.25\t(35, 36)\t\t(35.0, 41.0)\t(-35.0, 41.0)\t(35.0, -31.0)\t(-35.0, -31.0)\t(36.0, 40.0)\t(-36.0, 40.0)\t(36.0, -30.0)\t(-36.0, -30.0)\t\n",
      "36\t29.25\t(36, 35)\t\t(36.0, 40.0)\t(-36.0, 40.0)\t(36.0, -30.0)\t(-36.0, -30.0)\t(35.0, 41.0)\t(-35.0, 41.0)\t(35.0, -31.0)\t(-35.0, -31.0)\t\n"
     ]
    },
    {
     "data": {
      "image/png": "[encoded data removed]",
      "text/plain": [
       "<Figure size 640x480 with 1 Axes>"
      ]
     },
     "metadata": {},
     "output_type": "display_data"
    },
    {
     "name": "stdout",
     "output_type": "stream",
     "text": [
      "Sushil Gautam\n"
     ]
    }
   ],
   "source": [
    "# Mid point circle drawing algorithm\n",
    "import os\n",
    "print(os.getcwd())\n",
    "import matplotlib.pyplot as plt\n",
    "r=float(input(\"Enter the radius = \"))\n",
    "x_center,y_center=map(float,input(\"Enter the center of circle= \").split())\n",
    "def symmetry(x,y,x_center,y_center):\n",
    "    plt.plot(x+x_center,y+y_center,marker=\".\",color='blue')\n",
    "    plt.plot(-x+x_center,y+y_center,marker=\".\",color='blue')\n",
    "    plt.plot(x+x_center,-y+y_center,marker=\".\",color='blue')\n",
    "    plt.plot(-x+x_center,-y+y_center,marker=\".\",color='blue')\n",
    "    plt.plot(y+x_center,x+y_center,marker=\".\",color='blue')\n",
    "    plt.plot(-y+x_center,x+y_center,marker=\".\",color='blue')\n",
    "    plt.plot(y+x_center,-x+y_center,marker=\".\",color='blue')\n",
    "    plt.plot(-y+x_center,-x+y_center,marker=\".\",color='blue')\n",
    "def display(k,p,x,y,x_center,y_center):\n",
    "    x=round(x)\n",
    "    y=round(y)\n",
    "    print(f\"{k}\\t{p}\\t{(x,y)}\\t\\t\",end=\"\")\n",
    "    print(f\"{(x+x_center,y+y_center)}\\t\",end=\"\")\n",
    "    print(f\"{(-x+x_center,y+y_center)}\\t\",end=\"\")\n",
    "    print(f\"{(x+x_center,-y+y_center)}\\t\",end=\"\")\n",
    "    print(f\"{(-x+x_center,-y+y_center)}\\t\",end=\"\")\n",
    "    print(f\"{(y+x_center,x+y_center)}\\t\",end=\"\")\n",
    "    print(f\"{(-y+x_center,x+y_center)}\\t\",end=\"\")\n",
    "    print(f\"{(y+x_center,-x+y_center)}\\t\",end=\"\")\n",
    "    print(f\"{(-y+x_center,-x+y_center)}\\t\")\n",
    "x=0\n",
    "y=r\n",
    "p=5/4-r\n",
    "k=0\n",
    "print(\"k\\tpk\\t(x+1,y+1)\\t(x,y)\\t\\t(-x,y)\\t\\t(x,-y)\\t\\t(-x,-y)\\t\\t(y,x)\\t\\t(-y,x)\\t\\t(y,-x)\\t\\t(-y,-x)\")\n",
    "symmetry(x,y,x_center,y_center)\n",
    "display(k,p,x,y,x_center,y_center)\n",
    "while x<y:\n",
    "    x+=1\n",
    "    k+=1\n",
    "    if p<0:\n",
    "        p=p+2*x+1\n",
    "    else:\n",
    "        p=p+2*(x-y)+1\n",
    "        y-=1\n",
    "    symmetry(x,y,x_center,y_center)\n",
    "    display(k,p,x,y,x_center,y_center)\n",
    "plt.plot(x_center,y_center,color='red',marker=\".\")\n",
    "plt.text(x_center,y_center,\"(\"+str(x_center)+\" , \"+str(y_center)+\")\",fontsize=8)\n",
    "plt.show();\n",
    "print(\"Sushil Gautam\")"
   ]
  },
  {
   "cell_type": "code",
   "execution_count": null,
   "id": "4e4149b4-8aad-4356-b75e-59882acfa0f3",
   "metadata": {},
   "outputs": [],
   "source": []
  }
 ],
 "metadata": {
  "kernelspec": {
   "display_name": "Python 3 (ipykernel)",
   "language": "python",
   "name": "python3"
  },
  "language_info": {
   "codemirror_mode": {
    "name": "ipython",
    "version": 3
   },
   "file_extension": ".py",
   "mimetype": "text/x-python",
   "name": "python",
   "nbconvert_exporter": "python",
   "pygments_lexer": "ipython3",
   "version": "3.12.1"
  }
 },
 "nbformat": 4,
 "nbformat_minor": 5
}
