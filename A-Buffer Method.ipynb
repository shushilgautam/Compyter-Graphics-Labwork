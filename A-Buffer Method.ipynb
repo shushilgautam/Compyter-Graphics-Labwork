{
 "cells": [
  {
   "cell_type": "code",
   "execution_count": 3,
   "metadata": {},
   "outputs": [
    {
     "data": {
      "image/png": "[encoded data removed]",
      "text/plain": [
       "<Figure size 640x480 with 1 Axes>"
      ]
     },
     "metadata": {},
     "output_type": "display_data"
    }
   ],
   "source": [
    "import numpy as np\n",
    "import matplotlib.pyplot as plt\n",
    "\n",
    "# Constants for the image dimensions\n",
    "WIDTH = 800\n",
    "HEIGHT = 600\n",
    "\n",
    "def initialize_abuffer(width, height):\n",
    "    \"\"\"\n",
    "    Initialize the A-buffer with empty lists.\n",
    "    \"\"\"\n",
    "    return [[[] for _ in range(width)] for _ in range(height)]\n",
    "\n",
    "def update_abuffer(abuffer, x, y, depth, color):\n",
    "    \"\"\"\n",
    "    Update A-buffer with a new fragment.\n",
    "    \"\"\"\n",
    "    if 0 <= x < WIDTH and 0 <= y < HEIGHT:\n",
    "        if not abuffer[y][x] or depth < abuffer[y][x][0]:\n",
    "            abuffer[y][x] = [depth, color]\n",
    "    return abuffer\n",
    "\n",
    "def composite_abuffer(abuffer):\n",
    "    \"\"\"\n",
    "    Composite final image from A-buffer.\n",
    "    \"\"\"\n",
    "    image = np.zeros((HEIGHT, WIDTH, 3))\n",
    "    for y in range(HEIGHT):\n",
    "        for x in range(WIDTH):\n",
    "            if abuffer[y][x]:\n",
    "                image[y, x] = abuffer[y][x][1]\n",
    "    return image\n",
    "\n",
    "def render_scene():\n",
    "    \"\"\"\n",
    "    Render a simple 2D scene.\n",
    "    \"\"\"\n",
    "    abuffer = initialize_abuffer(WIDTH, HEIGHT)\n",
    "    \n",
    "    # Render a blue square with a yellow border\n",
    "    for y in range(100, 500):\n",
    "        for x in range(200, 600):\n",
    "            depth = 0.5\n",
    "            if (x in range(200, 300) or x in range(500, 600) or\n",
    "                y in range(100, 200) or y in range(400, 500)):\n",
    "                color = [1.0, 1.0, 0.0]  # Yellow color for the border\n",
    "            else:\n",
    "                color = [0.0, 0.0, 1.0]  # Blue color for the square\n",
    "            abuffer = update_abuffer(abuffer, x, y, depth, color)\n",
    "    \n",
    "    # Render a purple circle with a green border\n",
    "    center_x = 400\n",
    "    center_y = 300\n",
    "    radius = 150\n",
    "    border_width = 3\n",
    "    \n",
    "    for y in range(HEIGHT):\n",
    "        for x in range(WIDTH):\n",
    "            distance_to_center = ((x - center_x) ** 2 + (y - center_y) ** 2) ** 0.5\n",
    "            if (radius - border_width <= distance_to_center <= radius and\n",
    "                distance_to_center >= radius - border_width):\n",
    "                depth = 0.4\n",
    "                if distance_to_center < radius:\n",
    "                    color = [0.5, 0.0, 0.5]  # Purple color for the circle\n",
    "                else:\n",
    "                    color = [0.0, 1.0, 0.0]  # Green color for the border\n",
    "                abuffer = update_abuffer(abuffer, x, y, depth, color)\n",
    "    \n",
    "    # Composite final image\n",
    "    return composite_abuffer(abuffer)\n",
    "\n",
    "def main():\n",
    "    \"\"\"\n",
    "    Main function to render the scene and display the final image.\n",
    "    \"\"\"\n",
    "    image = render_scene()\n",
    "    plt.imshow(image)\n",
    "    plt.axis('off')\n",
    "    plt.show()\n",
    "\n",
    "if __name__ == \"__main__\":\n",
    "    main()\n"
   ]
  }
 ],
 "metadata": {
  "kernelspec": {
   "display_name": "Python 3",
   "language": "python",
   "name": "python3"
  },
  "language_info": {
   "codemirror_mode": {
    "name": "ipython",
    "version": 3
   },
   "file_extension": ".py",
   "mimetype": "text/x-python",
   "name": "python",
   "nbconvert_exporter": "python",
   "pygments_lexer": "ipython3",
   "version": "3.12.1"
  }
 },
 "nbformat": 4,
 "nbformat_minor": 2
}
